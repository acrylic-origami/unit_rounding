{
 "cells": [
  {
   "cell_type": "code",
   "execution_count": 22,
   "id": "funky-occasions",
   "metadata": {},
   "outputs": [],
   "source": [
    "import json\n",
    "import random\n",
    "import math\n",
    "import copy\n",
    "import matplotlib.pyplot as plt\n",
    "\n",
    "import pandas as pd\n",
    "\n",
    "from IPython.display import display, clear_output"
   ]
  },
  {
   "cell_type": "code",
   "execution_count": 84,
   "id": "stock-metabolism",
   "metadata": {},
   "outputs": [],
   "source": [
    "def tuple_sym(u):\n",
    "    u['u_si']['si_syms'] = tuple(sorted(u['u_si']['si_syms'].items()))\n",
    "    u['u_si']['si_base_syms'] = u['u_si']['si_syms']\n",
    "    return u\n",
    "\n",
    "def flip_unit(u):\n",
    "    u = copy.deepcopy(u)\n",
    "    u['u_name'] = 'per %s' % u['u_name']\n",
    "    u['u_si']['si_fac'] = 1 / u['u_si']['si_fac']\n",
    "    u['u_si']['si_syms'] = tuple((a, -b) for a, b in u['u_si']['si_syms'])\n",
    "    u['u_sym'] = '1/(%s)' % u['u_sym']\n",
    "    return u\n",
    "    \n",
    "with open('../data/u2si.2.json', 'r') as f:\n",
    "    D = json.load(f)\n",
    "    D = [tuple_sym(d) for d in D if d['u_si']['si_fac'] != 0]\n",
    "    D += [flip_unit(d) for d in D]"
   ]
  },
  {
   "cell_type": "code",
   "execution_count": 80,
   "id": "three-terminal",
   "metadata": {},
   "outputs": [],
   "source": [
    "def dict_x(A, B, f):\n",
    "    A = dict(A)\n",
    "    B = dict(B)\n",
    "    D = {}\n",
    "    for k in set().union(A, B):\n",
    "        a = A[k] if k in A else 0\n",
    "        b = B[k] if k in B else 0\n",
    "        D[k] = f(a, b)\n",
    "    return D\n",
    "\n",
    "def unit_merge(a, b):\n",
    "    r = copy.deepcopy(a)\n",
    "    r['u_name'] = '%s - %s' % (a['u_name'], b['u_name'])\n",
    "    r['u_si']['si_fac'] = a['u_si']['si_fac'] * b['u_si']['si_fac']\n",
    "    r['u_si']['si_syms'] = tuple(dict_x(a['u_si']['si_syms'], b['u_si']['si_syms'], lambda a, b: a + b).items())\n",
    "    r['u_sym'] = '%s · %s' % (a['u_sym'], b['u_sym'])\n",
    "    return r"
   ]
  },
  {
   "cell_type": "code",
   "execution_count": 4,
   "id": "sunset-admission",
   "metadata": {},
   "outputs": [],
   "source": [
    "groupD = {}\n",
    "for di, d in enumerate(D):\n",
    "    sym = d['u_si']['si_syms']\n",
    "    if sym not in groupD:\n",
    "        groupD[sym] = []\n",
    "    groupD[sym].append(d)"
   ]
  },
  {
   "cell_type": "code",
   "execution_count": 5,
   "id": "legal-split",
   "metadata": {},
   "outputs": [
    {
     "data": {
      "text/plain": [
       "7943443032"
      ]
     },
     "execution_count": 5,
     "metadata": {},
     "output_type": "execute_result"
    }
   ],
   "source": [
    "sum([len(a) * len(b) * len(c) for ak, a in groupD.items() for bk, b in groupD.items() for ck, c in groupD.items() if len(set([ak, bk, ck])) == 3])"
   ]
  },
  {
   "cell_type": "code",
   "execution_count": 6,
   "id": "excited-suspect",
   "metadata": {},
   "outputs": [],
   "source": [
    "A = [(d, [d['u_si']['si_base_syms']]) for d in D]\n",
    "for _ in range(1):\n",
    "    B = []\n",
    "    for ai, (a, ags) in enumerate(A):\n",
    "        for g, ds in groupD.items():\n",
    "            if g not in ags:\n",
    "                next_ags = ags+[g]\n",
    "                for d in ds:\n",
    "                    B.append((unit_merge(a, d), next_ags))\n",
    "    A = [b[0] for b in B]"
   ]
  },
  {
   "cell_type": "code",
   "execution_count": 9,
   "id": "intellectual-fashion",
   "metadata": {},
   "outputs": [],
   "source": [
    "Q_LIM = 8\n",
    "FILT_NUM = 64\n",
    "VEC_SCORE_MULT = 0.1\n",
    "def SS(b, u, uu):\n",
    "    D_ = [d for d in A if d['u_si']['si_syms'] == uu]\n",
    "    def S(U, q=0):\n",
    "    #     print(sum(dict_x(bu, U[0][1], lambda a, b: abs(a - b)).values()))\n",
    "        V = sorted([\n",
    "            (\n",
    "    #             (abs(math.log(max(v, 1E-12) / b)) + VEC_SCORE_MULT * sum(dict_x(bu, uu, lambda a, b: abs(a - b)).values())) * (not ended_), # score\n",
    "                abs(v - b),\n",
    "                v, # home unit value\n",
    "#                 vu, # home unit\n",
    "                ended_, # end condition\n",
    "                path + [(d['u_sym'], d['u_si']['si_fac'])] # path\n",
    "            )\n",
    "            for d in D_\n",
    "            for u, path in U\n",
    "            for v in [round(u * d['u_si']['si_fac']) / d['u_si']['si_fac']]\n",
    "#             for vu in [dict_x(d['u_si']['si_syms'], uu, lambda a, b: a + b)]\n",
    "            for ended_ in [abs(b - v) < 0.5] # and bu == vu\n",
    "        ], key=lambda a: a[0])\n",
    "        print(len(V))\n",
    "\n",
    "        if q > Q_LIM:\n",
    "            plt.plot([v[0] for v in V])\n",
    "            return None\n",
    "            \n",
    "        for score, v, ended_, path in V:\n",
    "            if ended_:\n",
    "                return path, score, v\n",
    "            \n",
    "        return S([(v[1], v[3]) for v in V[:FILT_NUM]], q + 1)\n",
    "    \n",
    "    return S([(u, [])])"
   ]
  },
  {
   "cell_type": "code",
   "execution_count": 10,
   "id": "civilian-lighting",
   "metadata": {},
   "outputs": [
    {
     "name": "stdout",
     "output_type": "stream",
     "text": [
      "52234\n",
      "3342976\n",
      "3342976\n",
      "3342976\n",
      "3342976\n",
      "3342976\n",
      "3342976\n",
      "3342976\n",
      "3342976\n",
      "3342976\n"
     ]
    },
    {
     "data": {
      "image/png": "[encoded data removed]",
      "text/plain": [
       "<Figure size 432x288 with 1 Axes>"
      ]
     },
     "metadata": {
      "needs_background": "light"
     },
     "output_type": "display_data"
    }
   ],
   "source": [
    "SS(63471, 13, (('m', 1),))"
   ]
  },
  {
   "cell_type": "code",
   "execution_count": 12,
   "id": "static-hartford",
   "metadata": {},
   "outputs": [],
   "source": [
    "groupA = {}\n",
    "for a in A:\n",
    "    k = a['u_si']['si_syms']\n",
    "    if k not in groupA:\n",
    "        groupA[k] = []\n",
    "        \n",
    "    \n",
    "    groupA[k].append(a)"
   ]
  },
  {
   "cell_type": "code",
   "execution_count": 74,
   "id": "suspected-creature",
   "metadata": {},
   "outputs": [],
   "source": [
    "SI_0 = { a: 0 for a in 'm,A,cd,s,mol,K,kg'.split(',') }\n",
    "def standardize_syms(u):\n",
    "    u_si = copy.copy(SI_0)\n",
    "    for v, vx in dict(u).items():\n",
    "        if v in u_si:\n",
    "            u_si[v] = vx\n",
    "    \n",
    "    return u_si\n",
    "\n",
    "def unit2csv(u):\n",
    "    u_si = standardize_syms(u['u_si']['si_syms'])\n",
    "    return '\"%s\",\"%s\",%.10e,%d,%d,%d,%d,%d,%d,%d\\n' % (\n",
    "        u['u_name'],\n",
    "        u['u_sym'],\n",
    "        u['u_si']['si_fac'],\n",
    "        *u_si.values()\n",
    "    )"
   ]
  },
  {
   "cell_type": "code",
   "execution_count": 104,
   "id": "bright-graph",
   "metadata": {},
   "outputs": [],
   "source": [
    "with open('unit_combos.csv', 'w') as f:\n",
    "    f.write('long_name,name,factor,si_m,si_a,si_cd,si_s,si_mol,si_k,si_kg\\n')\n",
    "    for ai, a in enumerate(D):\n",
    "        f.write(unit2csv(a))\n",
    "        \n",
    "        if ai % 64 == 0:\n",
    "            clear_output()\n",
    "            display(ai)\n",
    "            \n",
    "        for b in D[ai+1:]:\n",
    "            if a != b:\n",
    "                c = unit_merge(a, b)\n",
    "                f.write(unit2csv(c))"
   ]
  },
  {
   "cell_type": "code",
   "execution_count": 78,
   "id": "proprietary-samba",
   "metadata": {},
   "outputs": [],
   "source": [
    "import psycopg2 as pg\n",
    "import psycopg2.extras as pg_extras\n",
    "def T(to, fro, unit):\n",
    "    si_unit = standardize_syms(unit)\n",
    "    creds = ' user=postgres password=postgres'\n",
    "    diff = float('inf')\n",
    "    path = []\n",
    "    while abs(to - fro) > 0.5:\n",
    "        with pg.connect('dbname=x2585 ' + creds) as conn:\n",
    "            cur = conn.cursor() # cursor_factory=pg_extras.RealDictCursor)\n",
    "\n",
    "            q = '''SELECT * FROM (SELECT *, ABS(LOG(st0.out / %%s)) AS diff FROM (SELECT long_name, name, factor, ROUND(%%s / factor) * factor AS out FROM units WHERE %s) st0 WHERE st0.out > 0) st1 ORDER BY st1.diff ASC LIMIT 1;''' % ' AND '.join(['si_%s=%%s' % k.lower() for k in si_unit.keys()])\n",
    "            cur.execute(q, (to, fro,) + tuple(si_unit.values()))\n",
    "            row = cur.fetchone()\n",
    "            long_name, via, factor, fro, diff = row\n",
    "            print(row)\n",
    "#             print(q % tuple([str(a) for a in (to, fro,) + tuple(si_unit.values())]))\n",
    "            path.append((via, factor, fro))\n",
    "#             return\n",
    "    return path"
   ]
  },
  {
   "cell_type": "code",
   "execution_count": 86,
   "id": "abandoned-allocation",
   "metadata": {},
   "outputs": [
    {
     "name": "stdout",
     "output_type": "stream",
     "text": [
      "('rad - per foot per minute', 'rad · 1/(ft/min)', 1.968503937, 1.968503937, 4.203953616009846)\n",
      "('thousand barrels per day - per cubic yard per (mile)', 'koilbbl/d · 1/(cuyd/mi)', 3.8733693416, 3.8733693416, 3.910000993009464)\n",
      "('cubic foot per second - per pondemaat', 'Mcuft/s · 1/(pond)', 7.7065994369, 7.7065994369, 3.6112271173169916)\n",
      "('large calorie per day - per microwatt-hour', 'Cal/d · 1/(uWh)', 13.451646091, 13.451646091, 3.3693144710961387)\n",
      "('mpg<sub>&#8209;imp</sub> - imperial gallon per minute', 'mpgimp · impgal/min', 26.8224, 26.8224, 3.069592268906458)\n",
      "('centimetre per second - per foot per mile', 'cm/s · 1/(ft/mi)', 52.8, 52.8, 2.7754559811903774)\n",
      "('gallon per hour - per litre per (kilometer)', 'USgal/h · 1/(L/100km)', 105.15032733, 105.15032733, 2.476279274753286)\n",
      "('electrical horsepower - per milliwatt-hour', 'hpelectrical · 1/(mWh)', 207.22222222, 207.22222222, 2.1816535770234653)\n",
      "('cubic foot per (square mile) - curie', 'cuft/sqmi · Ci', 404.52823691, 404.52823691, 1.8911410620621951)\n",
      "('cubic foot per minute - mile per (US quart)', 'cuft/min · mi/usqt', 802.58194286, 802.58194286, 1.5936005193262193)\n",
      "('watt - per grain-force', 'W · 1/(grf)', 1573.6626017, 1573.6626017, 1.3011782798479323)\n",
      "('mile per (US quart) - thousand barrels per day', 'mi/usqt · koilbbl/d', 3129.28, 3129.28, 1.0026454792758446)\n",
      "('watt - per petaelectronvolt', 'W · 1/(PeV)', 6241.5096471, 6241.5096471, 0.7028002576139959)\n",
      "('kilometre per hour - per square foot per acre', 'km/h · 1/(sqft/acre)', 12100.0, 12100.0, 0.4153045334077394)\n",
      "('day - kilometre per hour per second', 'days · km/hs', 24000.0, 24000.0, 0.1178786620125834)\n",
      "('cubic kilometre per annum - per cubic metre per (kilometer)', 'km3/a · 1/(m3/km)', 31688.087814, 31688.087814, 0.002806129190186116)\n",
      "('foot per second - per foot per nautical mile', 'foot/s · 1/(ft/nmi)', 1852.0, 31484.0, 0.0)\n"
     ]
    },
    {
     "data": {
      "text/plain": [
       "[('rad · 1/(ft/min)', 1.968503937, 1.968503937),\n",
       " ('koilbbl/d · 1/(cuyd/mi)', 3.8733693416, 3.8733693416),\n",
       " ('Mcuft/s · 1/(pond)', 7.7065994369, 7.7065994369),\n",
       " ('Cal/d · 1/(uWh)', 13.451646091, 13.451646091),\n",
       " ('mpgimp · impgal/min', 26.8224, 26.8224),\n",
       " ('cm/s · 1/(ft/mi)', 52.8, 52.8),\n",
       " ('USgal/h · 1/(L/100km)', 105.15032733, 105.15032733),\n",
       " ('hpelectrical · 1/(mWh)', 207.22222222, 207.22222222),\n",
       " ('cuft/sqmi · Ci', 404.52823691, 404.52823691),\n",
       " ('cuft/min · mi/usqt', 802.58194286, 802.58194286),\n",
       " ('W · 1/(grf)', 1573.6626017, 1573.6626017),\n",
       " ('mi/usqt · koilbbl/d', 3129.28, 3129.28),\n",
       " ('W · 1/(PeV)', 6241.5096471, 6241.5096471),\n",
       " ('km/h · 1/(sqft/acre)', 12100.0, 12100.0),\n",
       " ('days · km/hs', 24000.0, 24000.0),\n",
       " ('km3/a · 1/(m3/km)', 31688.087814, 31688.087814),\n",
       " ('foot/s · 1/(ft/nmi)', 1852.0, 31484.0)]"
      ]
     },
     "execution_count": 86,
     "metadata": {},
     "output_type": "execute_result"
    }
   ],
   "source": [
    "T(31484, 1, { 'm': 1, 's': -1 })"
   ]
  },
  {
   "cell_type": "code",
   "execution_count": 103,
   "id": "confidential-details",
   "metadata": {},
   "outputs": [
    {
     "name": "stdout",
     "output_type": "stream",
     "text": [
      "0.0253834572587904 23.58969294583588\n",
      "RealDictRow([('vto_unit_long', 'US barrel - royal cubit'), ('vto_unit', 'usbbl · royal cubit'), ('factor', 0.062482006907), ('vto', 16.00460755827559), ('diff', 2.7996942562309295)])\n",
      "RealDictRow([('vto_unit_long', 'board foot - DPI'), ('vto_unit', 'board feet · dpi'), ('factor', 0.092903040028), ('vto', 10.763910413465593), ('diff', 2.627419301292255)])\n",
      "RealDictRow([('vto_unit_long', 'smoot - kilderkin'), ('vto_unit', 'smoot · kilderkin'), ('factor', 0.13925764732), ('vto', 7.180934183830501), ('diff', 2.4516301730189025)])\n",
      "RealDictRow([('vto_unit_long', 'rod - firkin'), ('vto_unit', 'rod · firkin'), ('factor', 0.20576876245), ('vto', 4.85982414479939), ('diff', 2.2820697811388744)])\n",
      "RealDictRow([('vto_unit_long', 'tsubo - square foot'), ('vto_unit', 'tsubo · sqft'), ('factor', 0.3071174876), ('vto', 3.256082901089739), ('diff', 2.108144680416309)])\n",
      "RealDictRow([('vto_unit_long', 'imperial gallon - dot/cm'), ('vto_unit', 'impgal · dpcm'), ('factor', 0.454609), ('vto', 2.199692482990878), ('diff', 1.9378111974554475)])\n",
      "RealDictRow([('vto_unit_long', 'milligram per (litre) - per pound per foot'), ('vto_unit', 'mg/l · 1/(lb/ft)'), ('factor', 0.67196897514), ('vto', 1.4881639435684617), ('diff', 1.768100004651681)])\n",
      "RealDictRow([('vto_unit_long', 'cubic metre per (kilometer) - decare'), ('vto_unit', 'm3/km · daa'), ('factor', 1.0), ('vto', 1.0), ('diff', 1.5954492267582723)])\n",
      "RealDictRow([('vto_unit_long', 'royal cubit - gross register ton'), ('vto_unit', 'royal cubit · grt'), ('factor', 1.4838027614), ('vto', 0.6739440214119014), ('diff', 1.424073051777945)])\n",
      "RealDictRow([('vto_unit_long', 'arpent - square inch'), ('vto_unit', 'sq arp · sqin'), ('factor', 2.2057310724), ('vto', 0.45336442529774285), ('diff', 1.2518966655681076)])\n",
      "RealDictRow([('vto_unit_long', 'tsubo - square metre'), ('vto_unit', 'tsubo · m²'), ('factor', 3.305785124), ('vto', 0.302499999996975), ('diff', 1.076174605742417)])\n",
      "RealDictRow([('vto_unit_long', 'imperial gallon - verst'), ('vto_unit', 'impgal · verst'), ('factor', 4.849768812), ('vto', 0.20619539585591282), ('diff', 0.9097281904376089)])\n",
      "RealDictRow([('vto_unit_long', 'US dry gallon - mile'), ('vto_unit', 'USdrygal · miles'), ('factor', 7.0889732673), ('vto', 0.141064151647009), ('diff', 0.7448658881387825)])\n",
      "RealDictRow([('vto_unit_long', 'cubic metre per (kilometer) - hectare'), ('vto_unit', 'm3/km · ha'), ('factor', 10.0), ('vto', 0.1), ('diff', 0.5954492267582724)])\n",
      "RealDictRow([('vto_unit_long', 'royal cubit - cubic foot'), ('vto_unit', 'royal cubit · kcuft'), ('factor', 14.838027614), ('vto', 0.06739440214119014), ('diff', 0.42407305177794496)])\n",
      "RealDictRow([('vto_unit_long', 'imperial gallon - league'), ('vto_unit', 'impgal · league'), ('factor', 21.948667995), ('vto', 0.045560851356802344), ('diff', 0.2540410575320354)])\n",
      "RealDictRow([('vto_unit_long', 'furlong - imperial barrel'), ('vto_unit', 'furlong · impbbl'), ('factor', 32.923001992), ('vto', 0.03037390090499618), ('diff', 0.0779497984829497)])\n",
      "RealDictRow([('vto_unit_long', 'stere - DPI'), ('vto_unit', 'stere · dpi'), ('factor', 39.37007874), ('vto', 0.0254000000001016), ('diff', 0.0002829433799476507)])\n"
     ]
    },
    {
     "data": {
      "text/plain": [
       "[RealDictRow([('vto_unit_long', 'US barrel - royal cubit'),\n",
       "              ('vto_unit', 'usbbl · royal cubit'),\n",
       "              ('factor', 0.062482006907),\n",
       "              ('vto', 16.00460755827559),\n",
       "              ('diff', 2.7996942562309295)]),\n",
       " RealDictRow([('vto_unit_long', 'board foot - DPI'),\n",
       "              ('vto_unit', 'board feet · dpi'),\n",
       "              ('factor', 0.092903040028),\n",
       "              ('vto', 10.763910413465593),\n",
       "              ('diff', 2.627419301292255)]),\n",
       " RealDictRow([('vto_unit_long', 'smoot - kilderkin'),\n",
       "              ('vto_unit', 'smoot · kilderkin'),\n",
       "              ('factor', 0.13925764732),\n",
       "              ('vto', 7.180934183830501),\n",
       "              ('diff', 2.4516301730189025)]),\n",
       " RealDictRow([('vto_unit_long', 'rod - firkin'),\n",
       "              ('vto_unit', 'rod · firkin'),\n",
       "              ('factor', 0.20576876245),\n",
       "              ('vto', 4.85982414479939),\n",
       "              ('diff', 2.2820697811388744)]),\n",
       " RealDictRow([('vto_unit_long', 'tsubo - square foot'),\n",
       "              ('vto_unit', 'tsubo · sqft'),\n",
       "              ('factor', 0.3071174876),\n",
       "              ('vto', 3.256082901089739),\n",
       "              ('diff', 2.108144680416309)]),\n",
       " RealDictRow([('vto_unit_long', 'imperial gallon - dot/cm'),\n",
       "              ('vto_unit', 'impgal · dpcm'),\n",
       "              ('factor', 0.454609),\n",
       "              ('vto', 2.199692482990878),\n",
       "              ('diff', 1.9378111974554475)]),\n",
       " RealDictRow([('vto_unit_long', 'milligram per (litre) - per pound per foot'),\n",
       "              ('vto_unit', 'mg/l · 1/(lb/ft)'),\n",
       "              ('factor', 0.67196897514),\n",
       "              ('vto', 1.4881639435684617),\n",
       "              ('diff', 1.768100004651681)]),\n",
       " RealDictRow([('vto_unit_long', 'cubic metre per (kilometer) - decare'),\n",
       "              ('vto_unit', 'm3/km · daa'),\n",
       "              ('factor', 1.0),\n",
       "              ('vto', 1.0),\n",
       "              ('diff', 1.5954492267582723)]),\n",
       " RealDictRow([('vto_unit_long', 'royal cubit - gross register ton'),\n",
       "              ('vto_unit', 'royal cubit · grt'),\n",
       "              ('factor', 1.4838027614),\n",
       "              ('vto', 0.6739440214119014),\n",
       "              ('diff', 1.424073051777945)]),\n",
       " RealDictRow([('vto_unit_long', 'arpent - square inch'),\n",
       "              ('vto_unit', 'sq arp · sqin'),\n",
       "              ('factor', 2.2057310724),\n",
       "              ('vto', 0.45336442529774285),\n",
       "              ('diff', 1.2518966655681076)]),\n",
       " RealDictRow([('vto_unit_long', 'tsubo - square metre'),\n",
       "              ('vto_unit', 'tsubo · m²'),\n",
       "              ('factor', 3.305785124),\n",
       "              ('vto', 0.302499999996975),\n",
       "              ('diff', 1.076174605742417)]),\n",
       " RealDictRow([('vto_unit_long', 'imperial gallon - verst'),\n",
       "              ('vto_unit', 'impgal · verst'),\n",
       "              ('factor', 4.849768812),\n",
       "              ('vto', 0.20619539585591282),\n",
       "              ('diff', 0.9097281904376089)]),\n",
       " RealDictRow([('vto_unit_long', 'US dry gallon - mile'),\n",
       "              ('vto_unit', 'USdrygal · miles'),\n",
       "              ('factor', 7.0889732673),\n",
       "              ('vto', 0.141064151647009),\n",
       "              ('diff', 0.7448658881387825)]),\n",
       " RealDictRow([('vto_unit_long', 'cubic metre per (kilometer) - hectare'),\n",
       "              ('vto_unit', 'm3/km · ha'),\n",
       "              ('factor', 10.0),\n",
       "              ('vto', 0.1),\n",
       "              ('diff', 0.5954492267582724)]),\n",
       " RealDictRow([('vto_unit_long', 'royal cubit - cubic foot'),\n",
       "              ('vto_unit', 'royal cubit · kcuft'),\n",
       "              ('factor', 14.838027614),\n",
       "              ('vto', 0.06739440214119014),\n",
       "              ('diff', 0.42407305177794496)]),\n",
       " RealDictRow([('vto_unit_long', 'imperial gallon - league'),\n",
       "              ('vto_unit', 'impgal · league'),\n",
       "              ('factor', 21.948667995),\n",
       "              ('vto', 0.045560851356802344),\n",
       "              ('diff', 0.2540410575320354)]),\n",
       " RealDictRow([('vto_unit_long', 'furlong - imperial barrel'),\n",
       "              ('vto_unit', 'furlong · impbbl'),\n",
       "              ('factor', 32.923001992),\n",
       "              ('vto', 0.03037390090499618),\n",
       "              ('diff', 0.0779497984829497)]),\n",
       " RealDictRow([('vto_unit_long', 'stere - DPI'),\n",
       "              ('vto_unit', 'stere · dpi'),\n",
       "              ('factor', 39.37007874),\n",
       "              ('vto', 0.0254000000001016),\n",
       "              ('diff', 0.0002829433799476507)])]"
      ]
     },
     "execution_count": 103,
     "metadata": {},
     "output_type": "execute_result"
    }
   ],
   "source": [
    "import re\n",
    "\n",
    "request = type('', (), {})() # thx https://stackoverflow.com/questions/19476816/creating-an-empty-object-in-python\n",
    "request.form = {\n",
    "    'term_unit': 'mph * gal/s',\n",
    "    'term_start': '1.394e4',\n",
    "    'term_end': '15'\n",
    "}\n",
    "creds = ' user=postgres password=postgres'\n",
    "def solve():\n",
    "  with pg.connect('dbname=x2585 ' + creds) as conn:\n",
    "    cur = conn.cursor(cursor_factory=pg_extras.RealDictCursor)\n",
    "    \n",
    "    unit = copy.copy(SI_0)\n",
    "    unit_factor = 1.0\n",
    "    unit_name = '' # TODO\n",
    "    unit_sym = '' # TODO\n",
    "    for a in re.split(r'\\W', request.form['term_unit']):\n",
    "      if len(a) > 0:\n",
    "        cur.execute('SELECT * FROM units WHERE name LIKE %s LIMIT 1', (a,))\n",
    "        d = cur.fetchone()\n",
    "        if d != None:\n",
    "          unit_factor *= d['factor']\n",
    "          for si in unit.keys():\n",
    "            unit[si] += d['si_%s' % si.lower()]\n",
    "        else:\n",
    "          return { 'err': 'Unit %s was not recognized.' % a }\n",
    "    \n",
    "    try:\n",
    "      fro = float(request.form['term_start']) * unit_factor\n",
    "      to = float(request.form['term_end']) * unit_factor\n",
    "    except ValueError:\n",
    "      return { 'err': 'Start and/or end values \"%s\" and \"%s\" are invalid: must be numeric.' % (request.form['term_start'], request.form['term_end']) }\n",
    "      \n",
    "    print(to, fro)\n",
    "    diff = float('inf')\n",
    "    path = []\n",
    "    while abs(to - fro) / unit_factor > 0.5:\n",
    "      q = '''SELECT * FROM (SELECT *, ABS(LOG(st0.vto / %%s)) AS diff FROM (SELECT long_name AS vto_unit_long, name AS vto_unit, factor, ROUND(%%s * factor) / factor AS vto FROM units WHERE %s) st0 WHERE st0.vto > 0) st1 ORDER BY st1.diff ASC LIMIT 1;''' % ' AND '.join(['si_%s=%%s' % k.lower() for k in unit.keys()])\n",
    "      cur.execute(q, (to, fro,) + tuple(unit.values()))\n",
    "      row = cur.fetchone()\n",
    "      fro = row['vto']\n",
    "      path.append(row)\n",
    "    return path\n",
    "\n",
    "solve()"
   ]
  },
  {
   "cell_type": "code",
   "execution_count": null,
   "id": "equivalent-plasma",
   "metadata": {},
   "outputs": [],
   "source": []
  }
 ],
 "metadata": {
  "kernelspec": {
   "display_name": "Python 3",
   "language": "python",
   "name": "python3"
  },
  "language_info": {
   "codemirror_mode": {
    "name": "ipython",
    "version": 3
   },
   "file_extension": ".py",
   "mimetype": "text/x-python",
   "name": "python",
   "nbconvert_exporter": "python",
   "pygments_lexer": "ipython3",
   "version": "3.8.5"
  }
 },
 "nbformat": 4,
 "nbformat_minor": 5
}
